{
 "cells": [
  {
   "cell_type": "markdown",
   "id": "e0bfeb09-2ec4-4750-b93e-864313d4fdcc",
   "metadata": {},
   "source": [
    "Q1. What is Flask Framework? What are the advantages of Flask Framework?"
   ]
  },
  {
   "cell_type": "markdown",
   "id": "89034d5e-90d8-4a0b-acf2-2d149b4cb309",
   "metadata": {},
   "source": [
    "Answer : Flask is a micro web framework written in Python. It is classified as a microframework because it does not require particular tools or libraries. It has no database abstraction layer, form validation, or any other components where pre-existing third-party libraries provide common functions.\n",
    "\n",
    "Advantages of flask framework :\n",
    "\n",
    "1.It is a lightweight framework that offers hassle-free development.\n",
    "\n",
    "2.Provide flexibility to the developer to experiment with their modules or architecture.\n",
    "\n",
    "3.It is suitable for small projects.\n",
    "\n",
    "4.Offers a built-in development server and fast debugger.\n",
    "\n",
    "5.Easily scalable for the applications.\n",
    "\n",
    "6.Support for secure cookies.\n"
   ]
  },
  {
   "cell_type": "markdown",
   "id": "712cce10-a215-4357-af80-456ae88444f6",
   "metadata": {},
   "source": [
    "Q2. Create a simple Flask application to display ‘Hello World!!’. Attach the screenshot of the output in\n",
    "Jupyter Notebook."
   ]
  },
  {
   "cell_type": "markdown",
   "id": "515506b1-99c7-4bcc-baf5-da9a4df9399b",
   "metadata": {},
   "source": [
    "Answer : "
   ]
  },
  {
   "cell_type": "code",
   "execution_count": null,
   "id": "87faecd2-9915-4678-8147-e2dd9da49775",
   "metadata": {},
   "outputs": [],
   "source": [
    "from flask import Flask\n",
    "\n",
    "app = Flask(__name__)\n",
    "\n",
    "@app.route(\"/\")\n",
    "def hello_world():\n",
    "    return \"Hello, World!!\"\n",
    "\n",
    "if __name__==\"__main__\":\n",
    "    app.run(host=\"0.0.0.0\")\n"
   ]
  },
  {
   "cell_type": "markdown",
   "id": "8a58e44e-2bc1-487f-8e7c-a5e21bbcddea",
   "metadata": {},
   "source": [
    "Q3. What is App routing in Flask? Why do we use app routes?"
   ]
  },
  {
   "cell_type": "markdown",
   "id": "ea734663-fbc6-4936-83e8-f20eb943fe08",
   "metadata": {},
   "source": [
    "Answer : App routing is used to map the specific URL with the associated function that is intended to perform some task. It is used to access some particular page like Flask Tutorial in the web application."
   ]
  },
  {
   "cell_type": "markdown",
   "id": "35ba3bea-a6e1-450b-b2b4-ff89b5db391f",
   "metadata": {},
   "source": [
    "Q4. Create a “/welcome” route to display the welcome message “Welcome to ABC Corporation” and a “/”\n",
    "route to show the following details:\n",
    "Company Name: ABC Corporation\n",
    "Location: India\n",
    "Contact Detail: 999-999-9999"
   ]
  },
  {
   "cell_type": "markdown",
   "id": "923b76d2-cf70-43de-91ff-3c45107ea385",
   "metadata": {},
   "source": [
    "Answer : "
   ]
  },
  {
   "cell_type": "code",
   "execution_count": null,
   "id": "ed1ab067-2e64-420f-9acf-42eea5fecdeb",
   "metadata": {},
   "outputs": [],
   "source": [
    "from flask import Flask\n",
    "\n",
    "app = Flask(__name__)\n",
    "\n",
    "@app.route(\"/\")\n",
    "def company():\n",
    "    return \"Company Name : ABC Corporation /n Location : India /n Contact Detail : 999-999-9999\"\n",
    "\n",
    "@app.route(\"/welcome\")\n",
    "def company_welcome():\n",
    "    return \"Welcome to ABC Corporation\"\n",
    "\n",
    "if __name__==\"__main__\":\n",
    "    app.run(host=\"0.0.0.0\")\n"
   ]
  },
  {
   "cell_type": "markdown",
   "id": "60ed9ace-da0d-4031-99af-01cdaf717185",
   "metadata": {},
   "source": [
    "Q5. What function is used in Flask for URL Building? Write a Python code to demonstrate the working of the\n",
    "url_for() function."
   ]
  },
  {
   "cell_type": "markdown",
   "id": "d5c1d0c0-1ce6-4d89-b0f5-5d84f3c87889",
   "metadata": {},
   "source": [
    "Answer : The url_for() function is used to build a URL to the specific function dynamically. The first argument is the name of the specified function, and then we can pass any number of keyword argument corresponding to the variable part of the URL.\n",
    "\n",
    "This function is useful in the sense that we can avoid hard-coding the URLs into the templates by dynamically building them using this function."
   ]
  },
  {
   "cell_type": "code",
   "execution_count": null,
   "id": "cb6f8a2c-10c8-49c3-81ee-0db94ae3f840",
   "metadata": {},
   "outputs": [],
   "source": [
    "from flask import *  \n",
    "   \n",
    "app = Flask(__name__)  \n",
    "  \n",
    "@app.route('/admin')  \n",
    "def admin():  \n",
    "    return 'admin'  \n",
    "  \n",
    "@app.route('/librarion')  \n",
    "def librarion():  \n",
    "    return 'librarion'  \n",
    "  \n",
    "@app.route('/student')  \n",
    "def student():  \n",
    "    return 'student'  \n",
    "  \n",
    "@app.route('/user/<name>')  \n",
    "def user(name):  \n",
    "    if name == 'admin':  \n",
    "        return redirect(url_for('admin'))  \n",
    "    if name == 'librarion':  \n",
    "        return redirect(url_for('librarion'))  \n",
    "    if name == 'student':  \n",
    "        return redirect(url_for('student'))  \n",
    "if __name__ =='__main__':  \n",
    "    app.run(debug = True)  "
   ]
  }
 ],
 "metadata": {
  "kernelspec": {
   "display_name": "Python 3 (ipykernel)",
   "language": "python",
   "name": "python3"
  },
  "language_info": {
   "codemirror_mode": {
    "name": "ipython",
    "version": 3
   },
   "file_extension": ".py",
   "mimetype": "text/x-python",
   "name": "python",
   "nbconvert_exporter": "python",
   "pygments_lexer": "ipython3",
   "version": "3.10.8"
  }
 },
 "nbformat": 4,
 "nbformat_minor": 5
}
